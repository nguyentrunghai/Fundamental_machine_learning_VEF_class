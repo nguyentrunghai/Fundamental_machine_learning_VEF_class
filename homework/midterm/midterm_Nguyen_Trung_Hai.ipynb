{
 "cells": [
  {
   "cell_type": "markdown",
   "metadata": {},
   "source": [
    "**Midterm**\n",
    "\n",
    "**Nguyen Trung Hai**"
   ]
  },
  {
   "cell_type": "code",
   "execution_count": 1,
   "metadata": {},
   "outputs": [],
   "source": [
    "%matplotlib inline\n",
    "\n",
    "import matplotlib.pyplot as plt\n",
    "from matplotlib.colors import ListedColormap\n",
    "import seaborn as sns\n",
    "sns.set()\n",
    "\n",
    "import numpy as np\n",
    "import pandas as pd\n",
    "\n",
    "from sklearn import datasets\n",
    "from sklearn.preprocessing import StandardScaler\n",
    "from sklearn.model_selection import train_test_split\n",
    "from sklearn.model_selection import GridSearchCV\n",
    "\n",
    "from sklearn.svm import SVC\n",
    "from sklearn.linear_model import LogisticRegression\n",
    "\n",
    "from sklearn.manifold import TSNE\n",
    "from sklearn.decomposition import PCA\n",
    "\n",
    "from sklearn.metrics import confusion_matrix\n",
    "from sklearn.metrics import roc_auc_score, roc_curve\n",
    "from sklearn.metrics import roc_auc_score"
   ]
  },
  {
   "cell_type": "markdown",
   "metadata": {},
   "source": [
    "# Problem 7"
   ]
  },
  {
   "cell_type": "code",
   "execution_count": 2,
   "metadata": {},
   "outputs": [],
   "source": [
    "def plot_decision_boundary(X, y, classifier, resolution=0.02):\n",
    "    \n",
    "    markers = ('s', 'o', 'x', '^', 'v')\n",
    "    colors = ('red', 'blue', 'lightgreen', 'gray', 'cyan')\n",
    "    cmap = ListedColormap(colors[:len(np.unique(y))])\n",
    "    \n",
    "    # plot the decision surface\n",
    "    x1_min = X[:, 0].min() - 2*resolution\n",
    "    x2_min = X[:, 1].min() - 2*resolution\n",
    "    x1_max = X[:, 0].max() + 2*resolution\n",
    "    x2_max = X[:, 1].max() + 2*resolution\n",
    "    \n",
    "    xx1, xx2 = np.meshgrid(np.arange(x1_min, x1_max, resolution),\n",
    "                          np.arange(x2_min, x2_max, resolution))\n",
    "    Z = classifier.predict(np.array([xx1.ravel(), xx2.ravel()]).T)\n",
    "    Z = Z.reshape(xx1.shape)\n",
    "    plt.contourf(xx1, xx2, Z, alpha=0.3, cmap=cmap)\n",
    "    plt.xlim(xx1.min(), xx1.max())\n",
    "    plt.ylim(xx2.min(), xx2.max())\n",
    "    \n",
    "    # plot class samples\n",
    "    for idx, cl in enumerate(np.unique(y)):\n",
    "        plt.scatter(x=X[y == cl, 0],\n",
    "                    y=X[y == cl, 1],\n",
    "                    c=colors[idx],\n",
    "                    marker=markers[idx],\n",
    "                    s=100,\n",
    "                    label=cl)"
   ]
  },
  {
   "cell_type": "code",
   "execution_count": 3,
   "metadata": {},
   "outputs": [],
   "source": [
    "# XOR dataset\n",
    "X_train = np.array([[0,0], [0, 1], [1, 0], [1,1]])\n",
    "y_train = np.array([0, 1, 1, 0])"
   ]
  },
  {
   "cell_type": "markdown",
   "metadata": {},
   "source": [
    "## (7b)"
   ]
  },
  {
   "cell_type": "code",
   "execution_count": 4,
   "metadata": {},
   "outputs": [
    {
     "name": "stderr",
     "output_type": "stream",
     "text": [
      "//anaconda3/lib/python3.7/site-packages/sklearn/svm/base.py:193: FutureWarning: The default value of gamma will change from 'auto' to 'scale' in version 0.22 to account better for unscaled features. Set gamma explicitly to 'auto' or 'scale' to avoid this warning.\n",
      "  \"avoid this warning.\", FutureWarning)\n"
     ]
    },
    {
     "data": {
      "image/png": "[encoded data removed]",
      "text/plain": [
       "<Figure size 432x288 with 1 Axes>"
      ]
     },
     "metadata": {
      "needs_background": "light"
     },
     "output_type": "display_data"
    }
   ],
   "source": [
    "# initialize the SVM classifier with poly kernel\n",
    "svm_poly = SVC(kernel=\"poly\", degree=3, C=100, random_state=123)\n",
    "\n",
    "# train the classifier\n",
    "svm_poly.fit(X_train, y_train)\n",
    "\n",
    "# plot decision boundary\n",
    "plot_decision_boundary(X_train, y_train, svm_poly)"
   ]
  },
  {
   "cell_type": "markdown",
   "metadata": {},
   "source": [
    "## (7c)"
   ]
  },
  {
   "cell_type": "code",
   "execution_count": 5,
   "metadata": {},
   "outputs": [
    {
     "data": {
      "image/png": "[encoded data removed]",
      "text/plain": [
       "<Figure size 432x288 with 1 Axes>"
      ]
     },
     "metadata": {
      "needs_background": "light"
     },
     "output_type": "display_data"
    }
   ],
   "source": [
    "# initialize the SVM classifier with rbf kernel\n",
    "svm_rbf = SVC(kernel=\"rbf\", gamma=10, C=100, random_state=123)\n",
    "# train the classifier\n",
    "svm_rbf.fit(X_train, y_train)\n",
    "\n",
    "# plot decision boundary\n",
    "plot_decision_boundary(X_train, y_train, svm_rbf)"
   ]
  },
  {
   "cell_type": "code",
   "execution_count": null,
   "metadata": {},
   "outputs": [],
   "source": []
  },
  {
   "cell_type": "markdown",
   "metadata": {},
   "source": [
    "# Problem 8"
   ]
  },
  {
   "cell_type": "code",
   "execution_count": 6,
   "metadata": {},
   "outputs": [
    {
     "name": "stdout",
     "output_type": "stream",
     "text": [
      "Features: ['mean radius' 'mean texture' 'mean perimeter' 'mean area'\n",
      " 'mean smoothness' 'mean compactness' 'mean concavity'\n",
      " 'mean concave points' 'mean symmetry' 'mean fractal dimension'\n",
      " 'radius error' 'texture error' 'perimeter error' 'area error'\n",
      " 'smoothness error' 'compactness error' 'concavity error'\n",
      " 'concave points error' 'symmetry error' 'fractal dimension error'\n",
      " 'worst radius' 'worst texture' 'worst perimeter' 'worst area'\n",
      " 'worst smoothness' 'worst compactness' 'worst concavity'\n",
      " 'worst concave points' 'worst symmetry' 'worst fractal dimension']\n"
     ]
    }
   ],
   "source": [
    "# load cancer dataset\n",
    "cancer = datasets.load_breast_cancer()\n",
    "\n",
    "# print name of the 13 features\n",
    "print(\"Features:\", cancer.feature_names)\n",
    "\n",
    "# data description\n",
    "#print(cancer.DESCR)"
   ]
  },
  {
   "cell_type": "code",
   "execution_count": 7,
   "metadata": {},
   "outputs": [
    {
     "name": "stdout",
     "output_type": "stream",
     "text": [
      "X_cancer.shape: (569, 30)\n",
      "y_cancer[:50]: [0 0 0 0 0 0 0 0 0 0 0 0 0 0 0 0 0 0 0 1 1 1 0 0 0 0 0 0 0 0 0 0 0 0 0 0 0\n",
      " 1 0 0 0 0 0 0 0 0 1 0 1 1]\n",
      "Labels: ['malignant' 'benign']\n"
     ]
    }
   ],
   "source": [
    "X_cancer = cancer.data\n",
    "y_cancer = cancer.target\n",
    "\n",
    "print(\"X_cancer.shape:\", X_cancer.shape)\n",
    "print(\"y_cancer[:50]:\", y_cancer[:50])\n",
    "print(\"Labels:\", cancer.target_names)"
   ]
  },
  {
   "cell_type": "markdown",
   "metadata": {},
   "source": [
    "**This means 'malignant' is labled as 0 and 'benign' as 1.**"
   ]
  },
  {
   "cell_type": "code",
   "execution_count": 8,
   "metadata": {},
   "outputs": [
    {
     "name": "stdout",
     "output_type": "stream",
     "text": [
      "Number of zero (malignant) labels: 212\n",
      "Number of one (benign) labels: 357\n",
      "Percentage of zero (malignant) labels: 0.37258347978910367\n"
     ]
    }
   ],
   "source": [
    "print(\"Number of zero (malignant) labels:\", (y_cancer == 0).sum())\n",
    "print(\"Number of one (benign) labels:\", (y_cancer == 1).sum())\n",
    "print(\"Percentage of zero (malignant) labels:\", (y_cancer == 0).mean())"
   ]
  },
  {
   "cell_type": "markdown",
   "metadata": {},
   "source": [
    "## (8a) Split train test"
   ]
  },
  {
   "cell_type": "code",
   "execution_count": 9,
   "metadata": {},
   "outputs": [
    {
     "name": "stdout",
     "output_type": "stream",
     "text": [
      "X_cancer_train.shape: (398, 30)\n",
      "X_cancer_test.shape: (171, 30)\n",
      "y_cancer_train.shape: (398,)\n",
      "y_cancer_test.shape: (171,)\n"
     ]
    }
   ],
   "source": [
    "X_cancer_train, X_cancer_test, y_cancer_train, y_cancer_test = train_test_split(X_cancer, y_cancer, \n",
    "                                                                                test_size=0.3, \n",
    "                                                                                stratify=y_cancer,\n",
    "                                                                                random_state=123)\n",
    "print(\"X_cancer_train.shape:\", X_cancer_train.shape)\n",
    "print(\"X_cancer_test.shape:\", X_cancer_test.shape)\n",
    "print(\"y_cancer_train.shape:\", y_cancer_train.shape)\n",
    "print(\"y_cancer_test.shape:\", y_cancer_test.shape)"
   ]
  },
  {
   "cell_type": "markdown",
   "metadata": {},
   "source": [
    "## (8b)  Standardize the features"
   ]
  },
  {
   "cell_type": "code",
   "execution_count": 10,
   "metadata": {},
   "outputs": [
    {
     "name": "stdout",
     "output_type": "stream",
     "text": [
      "Mean values of training features: [-1.67440043e-15 -6.56091596e-16 -3.91925465e-17 -1.07786477e-15\n",
      " -3.70794964e-16 -2.08236555e-15  6.51977076e-16  1.28875135e-16\n",
      " -4.86210737e-15  3.64420945e-15  7.87895712e-16  2.90108529e-16\n",
      "  9.86787425e-18 -2.97779668e-16 -5.70174840e-16 -1.42766870e-15\n",
      "  9.88879553e-16  1.27313012e-15 -3.33140132e-15  1.25081408e-15\n",
      "  1.43464247e-15  9.22684598e-15 -1.62321301e-15 -8.23740852e-16\n",
      " -3.20793085e-17 -5.35306026e-16 -1.81178355e-16  2.50079131e-16\n",
      "  5.64484249e-15  4.00219884e-15]\n",
      "Standard deviations of training features: [1. 1. 1. 1. 1. 1. 1. 1. 1. 1. 1. 1. 1. 1. 1. 1. 1. 1. 1. 1. 1. 1. 1. 1.\n",
      " 1. 1. 1. 1. 1. 1.]\n",
      "-------\n",
      "Mean values of test features: [-0.01325212  0.08127555 -0.0066463  -0.01936029  0.01137251  0.04680623\n",
      " -0.01513348  0.00721536  0.09950402 -0.06883219 -0.00071366  0.05160618\n",
      "  0.01652891 -0.02445259  0.04525236  0.02178297 -0.05057679  0.02215072\n",
      " -0.02552434 -0.09596367 -0.01941184  0.08167733 -0.0118028  -0.02474214\n",
      " -0.01562904  0.00932135 -0.04710503 -0.03144759 -0.02353199 -0.10454472]\n",
      "Standard deviations of test features: [0.97194077 0.98930323 0.98360647 0.9451905  0.93917063 1.07860972\n",
      " 1.02399159 1.05382232 1.04730329 0.82722974 0.87626669 1.0081208\n",
      " 0.87096993 0.72300241 1.13171069 1.05332008 0.79291639 1.09530936\n",
      " 1.04241919 0.7614394  0.96230713 1.02030687 0.97313951 0.94296505\n",
      " 0.97925421 1.03933556 1.02418324 1.01078964 0.99329985 0.93067421]\n"
     ]
    }
   ],
   "source": [
    "# initialize the scaler\n",
    "sd_scaler = StandardScaler()\n",
    "\n",
    "# fit the scaler to the training data\n",
    "sd_scaler.fit(X_cancer_train)\n",
    "\n",
    "# transform the training data\n",
    "X_cancer_train_std = sd_scaler.transform(X_cancer_train)\n",
    "\n",
    "# transform the test data\n",
    "X_cancer_test_std = sd_scaler.transform(X_cancer_test)\n",
    "\n",
    "print(\"Mean values of training features:\", X_cancer_train_std.mean(axis=0))\n",
    "print(\"Standard deviations of training features:\", X_cancer_train_std.std(axis=0))\n",
    "print(\"-------\")\n",
    "print(\"Mean values of test features:\", X_cancer_test_std.mean(axis=0))\n",
    "print(\"Standard deviations of test features:\", X_cancer_test_std.std(axis=0))"
   ]
  },
  {
   "cell_type": "markdown",
   "metadata": {},
   "source": [
    "## (8c) Fit a logistic regression model"
   ]
  },
  {
   "cell_type": "code",
   "execution_count": 11,
   "metadata": {},
   "outputs": [
    {
     "name": "stdout",
     "output_type": "stream",
     "text": [
      "param_grid: [{'C': [1e-05, 0.0001, 0.001, 0.01, 0.1, 1, 10, 100, 1000, 10000, 100000]}]\n"
     ]
    },
    {
     "data": {
      "text/plain": [
       "GridSearchCV(cv=10, error_score='raise-deprecating',\n",
       "             estimator=LogisticRegression(C=1.0, class_weight=None, dual=False,\n",
       "                                          fit_intercept=True,\n",
       "                                          intercept_scaling=1, l1_ratio=None,\n",
       "                                          max_iter=1000, multi_class='warn',\n",
       "                                          n_jobs=None, penalty='l2',\n",
       "                                          random_state=123, solver='lbfgs',\n",
       "                                          tol=0.0001, verbose=0,\n",
       "                                          warm_start=False),\n",
       "             iid='warn', n_jobs=None,\n",
       "             param_grid=[{'C': [1e-05, 0.0001, 0.001, 0.01, 0.1, 1, 10, 100,\n",
       "                                1000, 10000, 100000]}],\n",
       "             pre_dispatch='2*n_jobs', refit=True, return_train_score=False,\n",
       "             scoring='roc_auc', verbose=0)"
      ]
     },
     "execution_count": 11,
     "metadata": {},
     "output_type": "execute_result"
    }
   ],
   "source": [
    "# Let's tune the C hyperparameter first\n",
    "c_range = [10**i for i in range(-5, 6)]\n",
    "param_grid = [{\"C\": c_range}]\n",
    "print(\"param_grid:\", param_grid)\n",
    "\n",
    "# initiate the GridSearchCV object\n",
    "gs_logistic = GridSearchCV(estimator=LogisticRegression(random_state=123, solver=\"lbfgs\", max_iter=1000),\n",
    "                           param_grid=param_grid, \n",
    "                           scoring=\"roc_auc\", \n",
    "                           cv=10)\n",
    "\n",
    "# fit to the training data\n",
    "gs_logistic.fit(X_cancer_train_std, y_cancer_train)"
   ]
  },
  {
   "cell_type": "markdown",
   "metadata": {},
   "source": [
    "Plot mean cross-validation AUC versus regularization hyperparameter C. "
   ]
  },
  {
   "cell_type": "code",
   "execution_count": 12,
   "metadata": {},
   "outputs": [
    {
     "data": {
      "text/plain": [
       "Text(0, 0.5, 'mean CV ROC-AUC')"
      ]
     },
     "execution_count": 12,
     "metadata": {},
     "output_type": "execute_result"
    },
    {
     "data": {
      "image/png": "[encoded data removed]",
      "text/plain": [
       "<Figure size 432x288 with 1 Axes>"
      ]
     },
     "metadata": {
      "needs_background": "light"
     },
     "output_type": "display_data"
    }
   ],
   "source": [
    "# plot mean CV AUC vs log(C)\n",
    "fig, ax = plt.subplots(nrows=1, ncols=1)\n",
    "ax.plot(c_range, gs_logistic.cv_results_[\"mean_test_score\"], marker=\"o\")\n",
    "ax.set_xscale('log')\n",
    "ax.set_xlabel(\"log(C)\")\n",
    "ax.set_ylabel(\"mean CV ROC-AUC\")"
   ]
  },
  {
   "cell_type": "markdown",
   "metadata": {},
   "source": [
    "If we are careful, we can repeat the grid search with finer grid around the best C."
   ]
  },
  {
   "cell_type": "code",
   "execution_count": 13,
   "metadata": {},
   "outputs": [
    {
     "name": "stdout",
     "output_type": "stream",
     "text": [
      "Best AUC: 0.9938358458961475\n",
      "Best regulaization hyperparameter C: {'C': 10}\n"
     ]
    }
   ],
   "source": [
    "print(\"Best AUC:\", gs_logistic.best_score_)\n",
    "print(\"Best regulaization hyperparameter C:\", gs_logistic.best_params_)"
   ]
  },
  {
   "cell_type": "code",
   "execution_count": 14,
   "metadata": {},
   "outputs": [
    {
     "data": {
      "text/plain": [
       "LogisticRegression(C=10, class_weight=None, dual=False, fit_intercept=True,\n",
       "                   intercept_scaling=1, l1_ratio=None, max_iter=1000,\n",
       "                   multi_class='warn', n_jobs=None, penalty='l2',\n",
       "                   random_state=123, solver='lbfgs', tol=0.0001, verbose=0,\n",
       "                   warm_start=False)"
      ]
     },
     "execution_count": 14,
     "metadata": {},
     "output_type": "execute_result"
    }
   ],
   "source": [
    "# best model\n",
    "best_logistic_cls = gs_logistic.best_estimator_\n",
    "\n",
    "# fit the best model on whole training set\n",
    "best_logistic_cls.fit(X_cancer_train_std, y_cancer_train)"
   ]
  },
  {
   "cell_type": "code",
   "execution_count": 15,
   "metadata": {},
   "outputs": [],
   "source": [
    "# predict labels for training set\n",
    "y_cancer_train_logreg = best_logistic_cls.predict(X_cancer_train_std)\n",
    "# predict class probabilities for training set\n",
    "proba_cancer_train_logreg = best_logistic_cls.predict_proba(X_cancer_train_std)\n",
    "\n",
    "# predict labels for test set\n",
    "y_cancer_test_logreg = best_logistic_cls.predict(X_cancer_test_std)\n",
    "# predict class probabilities for test set\n",
    "proba_cancer_test_logreg = best_logistic_cls.predict_proba(X_cancer_test_std)"
   ]
  },
  {
   "cell_type": "markdown",
   "metadata": {},
   "source": [
    "## (8d) Calculate classification metrics\n",
    "An important note for the breast cancer dataset is that, the negative class \"benign\" is labeled as `1` and the postive class \"malignant\" is labeled as `0`. So when calling the function `confusion_matrix` we will use the argument `labels=[1, 0]` to indicate that `1` is negative and `0` is positive. "
   ]
  },
  {
   "cell_type": "code",
   "execution_count": 16,
   "metadata": {},
   "outputs": [],
   "source": [
    "def metrics_from_conf_matr(y_true, y_pred, **kwargs):\n",
    "    conf_matr = confusion_matrix(y_true, y_pred, **kwargs)\n",
    "    tn, fp, fn, tp = conf_matr.ravel()\n",
    "    \n",
    "    results = {}\n",
    "    results[\"ACCURACY\"] = (tn + tp) / (tn + tp + fp + fn)\n",
    "    results[\"TPR\"] = tp / (tp + fn)\n",
    "    results[\"FPR\"] = fp / (fp + tn)\n",
    "    results[\"TNR\"] = tn / (tn + fp)\n",
    "    results[\"FNR\"] = fn / (fn + tp)\n",
    "    results[\"PRECISION\"] = tp / (tp + fp)\n",
    "    results[\"RECALL\"] = results[\"TPR\"]\n",
    "    results[\"F1\"] = 2 * (results[\"PRECISION\"] * results[\"RECALL\"]) / (results[\"PRECISION\"] + results[\"RECALL\"])\n",
    "    \n",
    "    return results"
   ]
  },
  {
   "cell_type": "code",
   "execution_count": 17,
   "metadata": {},
   "outputs": [
    {
     "name": "stdout",
     "output_type": "stream",
     "text": [
      "TPR for train: 0.973; for test: 0.922\n",
      "FPR for train: 0.000; for test: 0.019\n",
      "TNR for train: 1.000; for test: 0.981\n",
      "FNR for train: 0.027; for test: 0.078\n",
      "PRECISION for train: 1.000; for test: 0.967\n",
      "RECALL for train: 0.973; for test: 0.922\n",
      "F1 for train: 0.986; for test: 0.944\n"
     ]
    }
   ],
   "source": [
    "metrics_train =  metrics_from_conf_matr(y_cancer_train, y_cancer_train_logreg, labels=[1, 0])\n",
    "metrics_test =  metrics_from_conf_matr(y_cancer_test, y_cancer_test_logreg, labels=[1, 0])\n",
    "\n",
    "print(\"TPR for train: {:0.3f}; for test: {:0.3f}\". format(metrics_train[\"TPR\"], metrics_test[\"TPR\"]))\n",
    "print(\"FPR for train: {:0.3f}; for test: {:0.3f}\". format(metrics_train[\"FPR\"], metrics_test[\"FPR\"]))\n",
    "print(\"TNR for train: {:0.3f}; for test: {:0.3f}\". format(metrics_train[\"TNR\"], metrics_test[\"TNR\"]))\n",
    "print(\"FNR for train: {:0.3f}; for test: {:0.3f}\". format(metrics_train[\"FNR\"], metrics_test[\"FNR\"]))\n",
    "\n",
    "print(\"PRECISION for train: {:0.3f}; for test: {:0.3f}\". format(metrics_train[\"PRECISION\"], \n",
    "                                                                metrics_test[\"PRECISION\"]))\n",
    "print(\"RECALL for train: {:0.3f}; for test: {:0.3f}\". format(metrics_train[\"RECALL\"], \n",
    "                                                                metrics_test[\"RECALL\"]))\n",
    "print(\"F1 for train: {:0.3f}; for test: {:0.3f}\". format(metrics_train[\"F1\"], \n",
    "                                                                metrics_test[\"F1\"]))"
   ]
  },
  {
   "cell_type": "code",
   "execution_count": 18,
   "metadata": {},
   "outputs": [
    {
     "name": "stdout",
     "output_type": "stream",
     "text": [
      "ROC AUC for train: 0.999; for test: 0.975\n"
     ]
    }
   ],
   "source": [
    "auc_train = roc_auc_score(y_cancer_train, proba_cancer_train_logreg[:, 1])\n",
    "auc_test = roc_auc_score(y_cancer_test, proba_cancer_test_logreg[:, 1])\n",
    "\n",
    "print(\"ROC AUC for train: {:0.3f}; for test: {:0.3f}\".format(auc_train, auc_test))"
   ]
  },
  {
   "cell_type": "code",
   "execution_count": 19,
   "metadata": {},
   "outputs": [
    {
     "data": {
      "text/plain": [
       "Text(0.5, 1.0, 'ROC curve, logistic regression')"
      ]
     },
     "execution_count": 19,
     "metadata": {},
     "output_type": "execute_result"
    },
    {
     "data": {
      "image/png": "[encoded data removed]",
      "text/plain": [
       "<Figure size 432x288 with 1 Axes>"
      ]
     },
     "metadata": {
      "needs_background": "light"
     },
     "output_type": "display_data"
    }
   ],
   "source": [
    "roc_fpr_train, roc_tpr_train, _ = roc_curve(y_cancer_train, proba_cancer_train_logreg[:,0], pos_label=0)\n",
    "roc_fpr_test, roc_tpr_test, _ = roc_curve(y_cancer_test, proba_cancer_test_logreg[:,0], pos_label=0)\n",
    "\n",
    "fig, ax = plt.subplots(nrows=1, ncols=1)\n",
    "ax.plot(roc_fpr_train, roc_tpr_train, c=\"r\", lw=3, label=\"train\")\n",
    "ax.plot(roc_fpr_test, roc_tpr_test, c=\"b\", lw=3, label=\"test\")\n",
    "ax.plot([0, 1], [0, 1], c=\"k\", lw=1, linestyle=\"--\")\n",
    "ax.legend(fontsize=20)\n",
    "ax.set_xlabel(\"FPR\")\n",
    "ax.set_ylabel(\"TPR\")\n",
    "ax.set_title(\"ROC curve, logistic regression\", fontsize=20)"
   ]
  },
  {
   "cell_type": "markdown",
   "metadata": {},
   "source": [
    "## (8e) Visualizing data using `T-SNE`"
   ]
  },
  {
   "cell_type": "code",
   "execution_count": 20,
   "metadata": {},
   "outputs": [],
   "source": [
    "def scatter_plot(X, y, class_names, ax):\n",
    "    colors = ('red', 'blue', 'lightgreen', 'gray', 'cyan')\n",
    "    unique_cls = np.unique(y)\n",
    "    \n",
    "    for idx, cl in enumerate(unique_cls):\n",
    "        ax.scatter(X[y == cl, 0], X[y == cl, 1], c=colors[idx], label=class_names[idx])\n",
    "    return ax"
   ]
  },
  {
   "cell_type": "code",
   "execution_count": 21,
   "metadata": {},
   "outputs": [
    {
     "data": {
      "text/plain": [
       "Text(0.5, 1.0, 'Test data, Labels predicted by logistic regression')"
      ]
     },
     "execution_count": 21,
     "metadata": {},
     "output_type": "execute_result"
    },
    {
     "data": {
      "image/png": "[encoded data removed]",
      "text/plain": [
       "<Figure size 720x720 with 4 Axes>"
      ]
     },
     "metadata": {
      "needs_background": "light"
     },
     "output_type": "display_data"
    }
   ],
   "source": [
    "tsne = TSNE(n_components=2, random_state=123)\n",
    "X_cancer_train_emb = tsne.fit_transform(X_cancer_train_std)\n",
    "X_cancer_test_emb = tsne.fit_transform(X_cancer_test_std)\n",
    "\n",
    "fig, ax = plt.subplots(nrows=2, ncols=2, figsize=(10, 10))\n",
    "class_names = [\"malignant\", \"benign\"]\n",
    "\n",
    "# use true labels to color the data points in training set\n",
    "scatter_plot(X_cancer_train_emb, y_cancer_train, class_names, ax[0][0])\n",
    "ax[0][0].legend(loc=\"lower right\")\n",
    "ax[0][0].set_title(\"Training data, True labels\")\n",
    "\n",
    "# use predicted labels to color the data points in training set\n",
    "scatter_plot(X_cancer_train_emb, y_cancer_train_logreg, class_names, ax[0][1])\n",
    "ax[0][1].legend(loc=\"lower right\")\n",
    "ax[0][1].set_title(\"Training data, Labels predicted by logistic regression\")\n",
    "\n",
    "# use true labels to color the data points in test set\n",
    "scatter_plot(X_cancer_test_emb, y_cancer_test, class_names, ax[1][0])\n",
    "ax[1][0].legend(loc=\"lower left\")\n",
    "ax[1][0].set_title(\"Test data, True labels\")\n",
    "\n",
    "# use predicted labels to color the data points in test set\n",
    "scatter_plot(X_cancer_test_emb, y_cancer_test_logreg, class_names, ax[1][1])\n",
    "ax[1][1].legend(loc=\"lower left\")\n",
    "ax[1][1].set_title(\"Test data, Labels predicted by logistic regression\")"
   ]
  },
  {
   "cell_type": "code",
   "execution_count": null,
   "metadata": {},
   "outputs": [],
   "source": []
  },
  {
   "cell_type": "markdown",
   "metadata": {},
   "source": [
    "# Problem 9"
   ]
  },
  {
   "cell_type": "markdown",
   "metadata": {},
   "source": [
    "## (9a) \n",
    "The same as problem **(8b)** above. Here is the results of standardizing the train and test sets."
   ]
  },
  {
   "cell_type": "code",
   "execution_count": 22,
   "metadata": {},
   "outputs": [
    {
     "name": "stdout",
     "output_type": "stream",
     "text": [
      "Mean values of training features: [-1.67440043e-15 -6.56091596e-16 -3.91925465e-17 -1.07786477e-15\n",
      " -3.70794964e-16 -2.08236555e-15  6.51977076e-16  1.28875135e-16\n",
      " -4.86210737e-15  3.64420945e-15  7.87895712e-16  2.90108529e-16\n",
      "  9.86787425e-18 -2.97779668e-16 -5.70174840e-16 -1.42766870e-15\n",
      "  9.88879553e-16  1.27313012e-15 -3.33140132e-15  1.25081408e-15\n",
      "  1.43464247e-15  9.22684598e-15 -1.62321301e-15 -8.23740852e-16\n",
      " -3.20793085e-17 -5.35306026e-16 -1.81178355e-16  2.50079131e-16\n",
      "  5.64484249e-15  4.00219884e-15]\n",
      "Standard deviations of training features: [1. 1. 1. 1. 1. 1. 1. 1. 1. 1. 1. 1. 1. 1. 1. 1. 1. 1. 1. 1. 1. 1. 1. 1.\n",
      " 1. 1. 1. 1. 1. 1.]\n",
      "-------\n",
      "Mean values of test features: [-0.01325212  0.08127555 -0.0066463  -0.01936029  0.01137251  0.04680623\n",
      " -0.01513348  0.00721536  0.09950402 -0.06883219 -0.00071366  0.05160618\n",
      "  0.01652891 -0.02445259  0.04525236  0.02178297 -0.05057679  0.02215072\n",
      " -0.02552434 -0.09596367 -0.01941184  0.08167733 -0.0118028  -0.02474214\n",
      " -0.01562904  0.00932135 -0.04710503 -0.03144759 -0.02353199 -0.10454472]\n",
      "Standard deviations of test features: [0.97194077 0.98930323 0.98360647 0.9451905  0.93917063 1.07860972\n",
      " 1.02399159 1.05382232 1.04730329 0.82722974 0.87626669 1.0081208\n",
      " 0.87096993 0.72300241 1.13171069 1.05332008 0.79291639 1.09530936\n",
      " 1.04241919 0.7614394  0.96230713 1.02030687 0.97313951 0.94296505\n",
      " 0.97925421 1.03933556 1.02418324 1.01078964 0.99329985 0.93067421]\n"
     ]
    }
   ],
   "source": [
    "print(\"Mean values of training features:\", X_cancer_train_std.mean(axis=0))\n",
    "print(\"Standard deviations of training features:\", X_cancer_train_std.std(axis=0))\n",
    "print(\"-------\")\n",
    "print(\"Mean values of test features:\", X_cancer_test_std.mean(axis=0))\n",
    "print(\"Standard deviations of test features:\", X_cancer_test_std.std(axis=0))"
   ]
  },
  {
   "cell_type": "markdown",
   "metadata": {},
   "source": [
    "## (9b) Fit a SVC classification model"
   ]
  },
  {
   "cell_type": "code",
   "execution_count": 23,
   "metadata": {},
   "outputs": [],
   "source": [
    "c_range = [10**i for i in range(-10, 10)]\n",
    "gamma_range = [10**i for i in range(-10, 10)]\n",
    "degree_range = list(range(1, 11))\n",
    "\n",
    "param_grid = [{\"kernel\": [\"rbf\"], \"C\": c_range, \"gamma\": gamma_range},\n",
    "             {\"kernel\": [\"poly\"], \"C\": c_range, \"degree\": degree_range, \"gamma\": [\"auto\"]},\n",
    "             {\"kernel\": [\"sigmoid\"], \"C\": c_range, \"gamma\": gamma_range}]"
   ]
  },
  {
   "cell_type": "code",
   "execution_count": 24,
   "metadata": {},
   "outputs": [
    {
     "name": "stderr",
     "output_type": "stream",
     "text": [
      "//anaconda3/lib/python3.7/site-packages/sklearn/model_selection/_search.py:813: DeprecationWarning: The default of the `iid` parameter will change from True to False in version 0.22 and will be removed in 0.24. This will change numeric results when test-set sizes are unequal.\n",
      "  DeprecationWarning)\n"
     ]
    },
    {
     "data": {
      "text/plain": [
       "GridSearchCV(cv=10, error_score='raise-deprecating',\n",
       "             estimator=SVC(C=1.0, cache_size=200, class_weight=None, coef0=0.0,\n",
       "                           decision_function_shape='ovr', degree=3,\n",
       "                           gamma='auto_deprecated', kernel='rbf', max_iter=-1,\n",
       "                           probability=True, random_state=123, shrinking=True,\n",
       "                           tol=0.001, verbose=False),\n",
       "             iid='warn', n_jobs=None,\n",
       "             param_grid=[{'C': [1e-10, 1e-09, 1e-08, 1e-07, 1e-06, 1e-...\n",
       "                         {'C': [1e-10, 1e-09, 1e-08, 1e-07, 1e-06, 1e-05,\n",
       "                                0.0001, 0.001, 0.01, 0.1, 1, 10, 100, 1000,\n",
       "                                10000, 100000, 1000000, 10000000, 100000000,\n",
       "                                1000000000],\n",
       "                          'gamma': [1e-10, 1e-09, 1e-08, 1e-07, 1e-06, 1e-05,\n",
       "                                    0.0001, 0.001, 0.01, 0.1, 1, 10, 100, 1000,\n",
       "                                    10000, 100000, 1000000, 10000000, 100000000,\n",
       "                                    1000000000],\n",
       "                          'kernel': ['sigmoid']}],\n",
       "             pre_dispatch='2*n_jobs', refit=True, return_train_score=False,\n",
       "             scoring='roc_auc', verbose=0)"
      ]
     },
     "execution_count": 24,
     "metadata": {},
     "output_type": "execute_result"
    }
   ],
   "source": [
    "gs_svc = GridSearchCV(estimator=SVC(probability=True, random_state=123),\n",
    "                           param_grid=param_grid, \n",
    "                           scoring=\"roc_auc\", \n",
    "                           cv=10)\n",
    "# fit to the training data\n",
    "gs_svc.fit(X_cancer_train_std, y_cancer_train)"
   ]
  },
  {
   "cell_type": "code",
   "execution_count": 25,
   "metadata": {},
   "outputs": [
    {
     "name": "stdout",
     "output_type": "stream",
     "text": [
      "Best AUC: 0.9938358458961473\n",
      "Best hyperparameters: {'C': 100000, 'gamma': 1e-05, 'kernel': 'rbf'}\n"
     ]
    }
   ],
   "source": [
    "print(\"Best AUC:\", gs_svc.best_score_)\n",
    "print(\"Best hyperparameters:\", gs_svc.best_params_)"
   ]
  },
  {
   "cell_type": "code",
   "execution_count": 26,
   "metadata": {},
   "outputs": [
    {
     "data": {
      "text/plain": [
       "SVC(C=100000, cache_size=200, class_weight=None, coef0=0.0,\n",
       "    decision_function_shape='ovr', degree=3, gamma=1e-05, kernel='rbf',\n",
       "    max_iter=-1, probability=True, random_state=123, shrinking=True, tol=0.001,\n",
       "    verbose=False)"
      ]
     },
     "execution_count": 26,
     "metadata": {},
     "output_type": "execute_result"
    }
   ],
   "source": [
    "# best model\n",
    "best_svc_cls = gs_svc.best_estimator_\n",
    "\n",
    "# fit the best model on whole training set\n",
    "best_svc_cls.fit(X_cancer_train_std, y_cancer_train)"
   ]
  },
  {
   "cell_type": "code",
   "execution_count": 27,
   "metadata": {},
   "outputs": [],
   "source": [
    "# predict labels for training set\n",
    "y_cancer_train_svc = best_svc_cls.predict(X_cancer_train_std)\n",
    "# predict class probabilities for training set\n",
    "proba_cancer_train_svc = best_svc_cls.predict_proba(X_cancer_train_std)\n",
    "\n",
    "# predict labels for test set\n",
    "y_cancer_test_svc = best_svc_cls.predict(X_cancer_test_std)\n",
    "# predict class probabilities for test set\n",
    "proba_cancer_test_svc = best_svc_cls.predict_proba(X_cancer_test_std)"
   ]
  },
  {
   "cell_type": "markdown",
   "metadata": {},
   "source": [
    "## (9c) Calculate classification metrics"
   ]
  },
  {
   "cell_type": "code",
   "execution_count": 28,
   "metadata": {},
   "outputs": [
    {
     "name": "stdout",
     "output_type": "stream",
     "text": [
      "TPR for train: 0.973; for test: 0.891\n",
      "FPR for train: 0.000; for test: 0.009\n",
      "TNR for train: 1.000; for test: 0.991\n",
      "FNR for train: 0.027; for test: 0.109\n",
      "PRECISION for train: 1.000; for test: 0.983\n",
      "RECALL for train: 0.973; for test: 0.891\n",
      "F1 for train: 0.986; for test: 0.934\n"
     ]
    }
   ],
   "source": [
    "metrics_train =  metrics_from_conf_matr(y_cancer_train, y_cancer_train_svc, labels=[1, 0])\n",
    "metrics_test =  metrics_from_conf_matr(y_cancer_test, y_cancer_test_svc, labels=[1, 0])\n",
    "\n",
    "print(\"TPR for train: {:0.3f}; for test: {:0.3f}\".format(metrics_train[\"TPR\"], metrics_test[\"TPR\"]))\n",
    "print(\"FPR for train: {:0.3f}; for test: {:0.3f}\".format(metrics_train[\"FPR\"], metrics_test[\"FPR\"]))\n",
    "print(\"TNR for train: {:0.3f}; for test: {:0.3f}\".format(metrics_train[\"TNR\"], metrics_test[\"TNR\"]))\n",
    "print(\"FNR for train: {:0.3f}; for test: {:0.3f}\".format(metrics_train[\"FNR\"], metrics_test[\"FNR\"]))\n",
    "\n",
    "print(\"PRECISION for train: {:0.3f}; for test: {:0.3f}\".format(metrics_train[\"PRECISION\"], metrics_test[\"PRECISION\"]))\n",
    "print(\"RECALL for train: {:0.3f}; for test: {:0.3f}\".format(metrics_train[\"RECALL\"], metrics_test[\"RECALL\"]))\n",
    "print(\"F1 for train: {:0.3f}; for test: {:0.3f}\".format(metrics_train[\"F1\"], metrics_test[\"F1\"]))"
   ]
  },
  {
   "cell_type": "code",
   "execution_count": 29,
   "metadata": {},
   "outputs": [
    {
     "name": "stdout",
     "output_type": "stream",
     "text": [
      "ROC AUC for train: 0.998; for test: 0.980\n"
     ]
    }
   ],
   "source": [
    "auc_train = roc_auc_score(y_cancer_train, proba_cancer_train_svc[:, 1])\n",
    "auc_test = roc_auc_score(y_cancer_test, proba_cancer_test_svc[:, 1])\n",
    "\n",
    "print(\"ROC AUC for train: {:0.3f}; for test: {:0.3f}\".format(auc_train, auc_test))"
   ]
  },
  {
   "cell_type": "code",
   "execution_count": 30,
   "metadata": {},
   "outputs": [
    {
     "data": {
      "text/plain": [
       "Text(0.5, 1.0, 'ROC curve, SVC classifer')"
      ]
     },
     "execution_count": 30,
     "metadata": {},
     "output_type": "execute_result"
    },
    {
     "data": {
      "image/png": "[encoded data removed]",
      "text/plain": [
       "<Figure size 432x288 with 1 Axes>"
      ]
     },
     "metadata": {
      "needs_background": "light"
     },
     "output_type": "display_data"
    }
   ],
   "source": [
    "roc_fpr_train, roc_tpr_train, _ = roc_curve(y_cancer_train, proba_cancer_train_svc[:,0], pos_label=0)\n",
    "roc_fpr_test, roc_tpr_test, _ = roc_curve(y_cancer_test, proba_cancer_test_svc[:,0], pos_label=0)\n",
    "\n",
    "fig, ax = plt.subplots(nrows=1, ncols=1)\n",
    "ax.plot(roc_fpr_train, roc_tpr_train, c=\"r\", lw=3, label=\"train\")\n",
    "ax.plot(roc_fpr_test, roc_tpr_test, c=\"b\", lw=3, label=\"test\")\n",
    "ax.plot([0, 1], [0, 1], c=\"k\", lw=1, linestyle=\"--\")\n",
    "ax.legend(fontsize=20)\n",
    "ax.set_xlabel(\"FPR\")\n",
    "ax.set_ylabel(\"TPR\")\n",
    "ax.set_title(\"ROC curve, SVC classifer\", fontsize=20)"
   ]
  },
  {
   "cell_type": "markdown",
   "metadata": {},
   "source": [
    "## (9d) Visualizing data using `T-SNE`\n",
    "\n",
    "`X_cancer_train_emb` and `X_cancer_test_emb` were calculated in (8e)"
   ]
  },
  {
   "cell_type": "code",
   "execution_count": 31,
   "metadata": {},
   "outputs": [
    {
     "data": {
      "text/plain": [
       "Text(0.5, 1.0, 'Test data, Labels predicted by SVC')"
      ]
     },
     "execution_count": 31,
     "metadata": {},
     "output_type": "execute_result"
    },
    {
     "data": {
      "image/png": "[encoded data removed]",
      "text/plain": [
       "<Figure size 720x720 with 4 Axes>"
      ]
     },
     "metadata": {
      "needs_background": "light"
     },
     "output_type": "display_data"
    }
   ],
   "source": [
    "fig, ax = plt.subplots(nrows=2, ncols=2, figsize=(10, 10))\n",
    "class_names = [\"malignant\", \"benign\"]\n",
    "\n",
    "# use true labels to color the data points in training set\n",
    "scatter_plot(X_cancer_train_emb, y_cancer_train, class_names, ax[0][0])\n",
    "ax[0][0].legend(loc=\"lower right\")\n",
    "ax[0][0].set_title(\"Training data, True labels\")\n",
    "\n",
    "# use predicted labels to color the data points in training set\n",
    "scatter_plot(X_cancer_train_emb, y_cancer_train_svc, class_names, ax[0][1])\n",
    "ax[0][1].legend(loc=\"lower right\")\n",
    "ax[0][1].set_title(\"Training data, Labels predicted by SVC\")\n",
    "\n",
    "# use true labels to color the data points in test set\n",
    "scatter_plot(X_cancer_test_emb, y_cancer_test, class_names, ax[1][0])\n",
    "ax[1][0].legend(loc=\"lower left\")\n",
    "ax[1][0].set_title(\"Test data, True labels\")\n",
    "\n",
    "# use predicted labels to color the data points in test set\n",
    "scatter_plot(X_cancer_test_emb, y_cancer_test_svc, class_names, ax[1][1])\n",
    "ax[1][1].legend(loc=\"lower left\")\n",
    "ax[1][1].set_title(\"Test data, Labels predicted by SVC\")"
   ]
  },
  {
   "cell_type": "markdown",
   "metadata": {},
   "source": [
    "## (9e) Calculate the `PSI` between feature distributions of training set and test set"
   ]
  },
  {
   "cell_type": "code",
   "execution_count": 32,
   "metadata": {},
   "outputs": [],
   "source": [
    "# calculte Kullback-Leibler divergence\n",
    "def kl_divergence(p, q):\n",
    "    \"\"\"assume that p and q are defined on the same grid\"\"\"\n",
    "    result = 0.\n",
    "    for p_i, q_i in zip(p.ravel(), q.ravel()):\n",
    "        if p_i != 0 and q_i != 0:\n",
    "            result += p_i * np.log(p_i / q_i)\n",
    "    return result\n",
    "\n",
    "# calculte population stability index PSI\n",
    "def psi(p, q):\n",
    "    return kl_divergence(p, q) + kl_divergence(q, p)\n"
   ]
  },
  {
   "cell_type": "markdown",
   "metadata": {},
   "source": [
    "Now we need to estimate empirical probability distributions for the training and test sets.\n",
    "Howerver, estimating empirical probability distributions in high dimension is very challenging and prone to overfitting. Therefore, we will reduce the feature dimensionality before estimating probability. A simple approach is to calculate the histogram. More sophisticated methods involve kernel density estimations."
   ]
  },
  {
   "cell_type": "code",
   "execution_count": 33,
   "metadata": {},
   "outputs": [],
   "source": [
    "def pmf_estimate_1d(x, y, bins=10):\n",
    "    \"\"\"x, y are 1d arrays\"\"\"\n",
    "    assert x.ndim == y.ndim == 1, \"input must be 1d array\"\n",
    "    lower = np.min([x.min(), y.min()])\n",
    "    upper = np.max([x.max(), y.max()])\n",
    "    \n",
    "    bin_edges = np.linspace(lower, upper, bins + 1)\n",
    "    \n",
    "    px, _ = np.histogram(x, bins=bin_edges)\n",
    "    px = px / len(x)\n",
    "    \n",
    "    py, _ = np.histogram(y, bins=bin_edges)\n",
    "    py = py / len(y)\n",
    "    \n",
    "    return px, py, bin_edges\n",
    "\n",
    "\n",
    "def pmf_estimate_2d(x, y, bins=(10, 10)):\n",
    "    \"\"\"x, y are 2d arrays\"\"\"\n",
    "    assert x.ndim == y.ndim == 2, \"input must be 2d array\"\n",
    "    lower_0 = np.min([x[:, 0].min(), y[:, 0].min()])\n",
    "    lower_1 = np.min([x[:, 1].min(), y[:, 1].min()])\n",
    "    upper_0 = np.max([x[:, 0].max(), y[:, 0].max()])\n",
    "    upper_1 = np.max([x[:, 1].max(), y[:, 1].max()])\n",
    "    \n",
    "    bin_edges_0 = np.linspace(lower_0, upper_0, bins[0] + 1)\n",
    "    bin_edges_1 = np.linspace(lower_1, upper_1, bins[1] + 1)\n",
    "    \n",
    "    px, _, _ = np.histogram2d(x[:, 0], x[:, 1], bins=[bin_edges_0, bin_edges_1])\n",
    "    px = px / x.size\n",
    "    \n",
    "    py, _, _ = np.histogram2d(y[:, 0], y[:, 1], bins=[bin_edges_0, bin_edges_1])\n",
    "    py = py / y.size\n",
    "    \n",
    "    return px, py, bin_edges_0, bin_edges_1"
   ]
  },
  {
   "cell_type": "code",
   "execution_count": 34,
   "metadata": {},
   "outputs": [
    {
     "data": {
      "text/plain": [
       "0.01671607585886413"
      ]
     },
     "execution_count": 34,
     "metadata": {},
     "output_type": "execute_result"
    }
   ],
   "source": [
    "# Let's test with samples drawn from the same normal distribution\n",
    "x1 = np.random.normal(loc=0, scale=1, size=1000)\n",
    "x2 = np.random.normal(loc=0, scale=1, size=1000)\n",
    "\n",
    "p1, p2, _ = pmf_estimate_1d(x1, x2)\n",
    "psi(p1, p2)"
   ]
  },
  {
   "cell_type": "code",
   "execution_count": 35,
   "metadata": {},
   "outputs": [
    {
     "data": {
      "text/plain": [
       "0.677309719492355"
      ]
     },
     "execution_count": 35,
     "metadata": {},
     "output_type": "execute_result"
    }
   ],
   "source": [
    "# Let's test with samples drawn from different normal distributions\n",
    "x1 = np.random.normal(loc=0, scale=1, size=1000)\n",
    "x2 = np.random.normal(loc=0, scale=2, size=1000)\n",
    "\n",
    "p1, p2, _ = pmf_estimate_1d(x1, x2)\n",
    "psi(p1, p2)"
   ]
  },
  {
   "cell_type": "markdown",
   "metadata": {},
   "source": [
    "Let's reduce the dimensionality of the feature space of breast cancer data using PCA"
   ]
  },
  {
   "cell_type": "code",
   "execution_count": 36,
   "metadata": {},
   "outputs": [
    {
     "name": "stdout",
     "output_type": "stream",
     "text": [
      "X_train_pca.shape: (398, 2)\n",
      "X_test_pca.shape: (171, 2)\n"
     ]
    }
   ],
   "source": [
    "# initialize PCA object\n",
    "pca = PCA(n_components=2, random_state=123)\n",
    "# fit to train data\n",
    "pca.fit(X_cancer_train_std)\n",
    "\n",
    "# transform train data\n",
    "X_train_pca = pca.transform(X_cancer_train_std)\n",
    "# transform test data\n",
    "X_test_pca = pca.transform(X_cancer_test_std)\n",
    "\n",
    "print(\"X_train_pca.shape:\", X_train_pca.shape)\n",
    "print(\"X_test_pca.shape:\", X_test_pca.shape)"
   ]
  },
  {
   "cell_type": "code",
   "execution_count": 37,
   "metadata": {},
   "outputs": [
    {
     "name": "stdout",
     "output_type": "stream",
     "text": [
      "PSI between training and test sets: 0.099743\n"
     ]
    }
   ],
   "source": [
    "p_train, p_test, bin_edges_0, bin_edges_1 = pmf_estimate_2d(X_train_pca, X_test_pca, bins=(10, 10))\n",
    "print(\"PSI between training and test sets: {:0.5}\".format(psi(p_train, p_test)))"
   ]
  }
 ],
 "metadata": {
  "kernelspec": {
   "display_name": "Python 3",
   "language": "python",
   "name": "python3"
  },
  "language_info": {
   "codemirror_mode": {
    "name": "ipython",
    "version": 3
   },
   "file_extension": ".py",
   "mimetype": "text/x-python",
   "name": "python",
   "nbconvert_exporter": "python",
   "pygments_lexer": "ipython3",
   "version": "3.7.3"
  }
 },
 "nbformat": 4,
 "nbformat_minor": 2
}
