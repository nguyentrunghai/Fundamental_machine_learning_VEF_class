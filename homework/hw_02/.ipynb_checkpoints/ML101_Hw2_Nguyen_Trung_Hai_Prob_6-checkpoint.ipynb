{
 "cells": [
  {
   "cell_type": "code",
   "execution_count": 1,
   "metadata": {},
   "outputs": [],
   "source": [
    "%matplotlib inline\n",
    "import matplotlib.pyplot as plt\n",
    "import seaborn as sns\n",
    "import numpy as np"
   ]
  },
  {
   "cell_type": "markdown",
   "metadata": {},
   "source": [
    "# Problem 6"
   ]
  },
  {
   "cell_type": "markdown",
   "metadata": {},
   "source": [
    "Minimize a convex quadratic function using Gradient Descent algorithm.\n",
    "\n",
    "\\begin{equation}\n",
    "f(x) = \\frac{1}{2} x^T A x + b^T x,\n",
    "\\end{equation}\n",
    "where $A$ is a symmetric, positive semidefinite matrix of size $n \\times n$ and $b$ is a vector of size $n$."
   ]
  },
  {
   "cell_type": "markdown",
   "metadata": {},
   "source": [
    "Gradient of $f(x)$ is\n",
    "\\begin{equation}\n",
    "\\nabla f(x) = \\frac{1}{2} (A + A^T)x + b = Ax + b.\n",
    "\\end{equation}"
   ]
  },
  {
   "cell_type": "markdown",
   "metadata": {},
   "source": [
    "To minimize $f(x)$ we update $x$ using the Gradient Descent algorithm as\n",
    "\\begin{equation}\n",
    "x := x + \\Delta x,\n",
    "\\end{equation}\n",
    "where \n",
    "\\begin{equation}\n",
    "\\Delta x = - \\eta \\nabla f(x).\n",
    "\\end{equation}\n",
    "\n",
    "The scaling constant $\\eta > 0$ is called the learning rate."
   ]
  },
  {
   "cell_type": "code",
   "execution_count": 2,
   "metadata": {},
   "outputs": [],
   "source": [
    "def f(A_mat, b_vec, x_vec):\n",
    "    \"\"\"evaluate value of function f(x)\"\"\"\n",
    "    assert A_mat.ndim == 2, \"A_mat must be 2D array\"\n",
    "    assert A_mat.shape[0] == A_mat.shape[1], \"A_mat must be square\"\n",
    "    size = A_mat.shape[0]\n",
    "    assert (b_vec.ndim == 1) and (b_vec.shape[0] == size), \"b_vec must be 1D array and have the same size as A_mat\"\n",
    "    assert (x_vec.ndim == 1) and (x_vec.shape[0] == size), \"x_vec must be 1D array and have the same size as A_mat\"\n",
    "    \n",
    "    return 0.5 * np.dot(x_vec, np.dot(A_mat, x_vec)) + np.dot(b_vec, x_vec) "
   ]
  },
  {
   "cell_type": "code",
   "execution_count": 3,
   "metadata": {},
   "outputs": [],
   "source": [
    "def gradient_f(A_mat, b_vec, x_vec):\n",
    "    \"\"\"evaluate gradient of f(x)\"\"\"\n",
    "    return np.dot(A_mat, x_vec) + b_vec"
   ]
  },
  {
   "cell_type": "code",
   "execution_count": 4,
   "metadata": {},
   "outputs": [],
   "source": [
    "def gradient_descent(A_mat, b_vec, eta=1, iterations=100):\n",
    "    \"\"\"run gradient descent\"\"\"\n",
    "    size = A_mat.shape[0]\n",
    "    x_vec = np.random.randn(size)\n",
    "    \n",
    "    f_vals = []\n",
    "    for _ in range(iterations):\n",
    "        delta_x = - eta * gradient_f(A_mat, b_vec, x_vec)\n",
    "        x_vec += delta_x\n",
    "        \n",
    "        f_val = f(A_mat, b_vec, x_vec)\n",
    "        f_vals.append(f_val)\n",
    "        \n",
    "    return x_vec, f_vals"
   ]
  },
  {
   "cell_type": "code",
   "execution_count": 5,
   "metadata": {},
   "outputs": [],
   "source": [
    "def random_psd_matrix(size):\n",
    "    \"\"\"Create a random positive semidefinite matrix\"\"\"\n",
    "    mat = np.random.randn(size, size)\n",
    "    return np.dot(mat, mat.T)"
   ]
  },
  {
   "cell_type": "code",
   "execution_count": null,
   "metadata": {},
   "outputs": [],
   "source": []
  },
  {
   "cell_type": "markdown",
   "metadata": {},
   "source": [
    "Let's try the simplest function for which we know the minimizer:\n",
    "\n",
    "\\begin{equation}\n",
    "f(x, y) = x^2 + y^2.\n",
    "\\end{equation}\n",
    "\n",
    "$f$ has the global minimizer at $(x^*, y^*) = (0, 0)$.\n",
    "\n",
    "For this function \n",
    "\\begin{equation}\n",
    "A = \n",
    "\\left(\n",
    "\\begin{matrix}\n",
    "1&0\\\\\n",
    "0&1\n",
    "\\end{matrix}\n",
    "\\right),\n",
    "\\end{equation}\n",
    "\n",
    "and \n",
    "\\begin{equation}\n",
    "b = \n",
    "\\left(\n",
    "\\begin{matrix}\n",
    "0\\\\\n",
    "0\n",
    "\\end{matrix}\n",
    "\\right).\n",
    "\\end{equation}"
   ]
  },
  {
   "cell_type": "code",
   "execution_count": 6,
   "metadata": {},
   "outputs": [],
   "source": [
    "A = np.array([[1, 0], [0, 1]])\n",
    "b = np.array([0,0])"
   ]
  },
  {
   "cell_type": "code",
   "execution_count": 7,
   "metadata": {},
   "outputs": [],
   "source": [
    "x_star, f_vals =  gradient_descent(A, b, eta=0.1, iterations=100)"
   ]
  },
  {
   "cell_type": "code",
   "execution_count": 8,
   "metadata": {},
   "outputs": [
    {
     "name": "stdout",
     "output_type": "stream",
     "text": [
      "x_star =  [ 6.20055647e-05 -1.54598051e-06]\n"
     ]
    }
   ],
   "source": [
    "print(\"x_star = \", x_star)"
   ]
  },
  {
   "cell_type": "code",
   "execution_count": 9,
   "metadata": {},
   "outputs": [
    {
     "data": {
      "text/plain": [
       "Text(0, 0.5, 'value of f')"
      ]
     },
     "execution_count": 9,
     "metadata": {},
     "output_type": "execute_result"
    },
    {
     "data": {
      "image/png": "[encoded data removed]",
      "text/plain": [
       "<Figure size 432x288 with 1 Axes>"
      ]
     },
     "metadata": {},
     "output_type": "display_data"
    }
   ],
   "source": [
    "fig, ax = plt.subplots(1,1)\n",
    "ax.plot(range(1, len(f_vals)+1), f_vals)\n",
    "ax.set_xlabel(\"# iterations\")\n",
    "ax.set_ylabel(\"value of f\")"
   ]
  },
  {
   "cell_type": "code",
   "execution_count": null,
   "metadata": {},
   "outputs": [],
   "source": []
  },
  {
   "cell_type": "markdown",
   "metadata": {},
   "source": [
    "Let's try gradient descent with a random positive semidefinite matrix $A$ and a random vector $b$."
   ]
  },
  {
   "cell_type": "code",
   "execution_count": 10,
   "metadata": {},
   "outputs": [],
   "source": [
    "A = random_psd_matrix(10)\n",
    "b = np.random.rand(A.shape[0])"
   ]
  },
  {
   "cell_type": "code",
   "execution_count": 11,
   "metadata": {},
   "outputs": [],
   "source": [
    "x_star, f_vals =  gradient_descent(A, b, eta=0.1, iterations=100)"
   ]
  },
  {
   "cell_type": "markdown",
   "metadata": {},
   "source": [
    "When the learning rate is large, the algorithm does not converge."
   ]
  },
  {
   "cell_type": "code",
   "execution_count": 12,
   "metadata": {},
   "outputs": [
    {
     "data": {
      "text/plain": [
       "Text(0.5, 1.0, '$\\\\eta = 0.1$')"
      ]
     },
     "execution_count": 12,
     "metadata": {},
     "output_type": "execute_result"
    },
    {
     "data": {
      "image/png": "[encoded data removed]",
      "text/plain": [
       "<Figure size 432x288 with 1 Axes>"
      ]
     },
     "metadata": {},
     "output_type": "display_data"
    }
   ],
   "source": [
    "fig, ax = plt.subplots(1,1)\n",
    "ax.plot(range(1, len(f_vals)+1), f_vals)\n",
    "ax.set_xlabel(\"# iterations\")\n",
    "ax.set_ylabel(\"value of f\")\n",
    "ax.set_title(\"$\\eta = 0.1$\")"
   ]
  },
  {
   "cell_type": "markdown",
   "metadata": {},
   "source": [
    "Now reduce the learning rate."
   ]
  },
  {
   "cell_type": "code",
   "execution_count": 13,
   "metadata": {},
   "outputs": [],
   "source": [
    "x_star, f_vals =  gradient_descent(A, b, eta=0.001, iterations=1000)"
   ]
  },
  {
   "cell_type": "code",
   "execution_count": 14,
   "metadata": {},
   "outputs": [
    {
     "data": {
      "text/plain": [
       "Text(0.5, 1.0, '$\\\\eta = 0.01$')"
      ]
     },
     "execution_count": 14,
     "metadata": {},
     "output_type": "execute_result"
    },
    {
     "data": {
      "image/png": "[encoded data removed]",
      "text/plain": [
       "<Figure size 432x288 with 1 Axes>"
      ]
     },
     "metadata": {},
     "output_type": "display_data"
    }
   ],
   "source": [
    "fig, ax = plt.subplots(1,1)\n",
    "ax.plot(range(1, len(f_vals)+1), f_vals)\n",
    "ax.set_xlabel(\"# iterations\")\n",
    "ax.set_ylabel(\"value of f\")\n",
    "ax.set_title(\"$\\eta = 0.01$\")"
   ]
  },
  {
   "cell_type": "code",
   "execution_count": 15,
   "metadata": {},
   "outputs": [
    {
     "name": "stdout",
     "output_type": "stream",
     "text": [
      "x_star =  [ 0.66092239 -0.50693633 -1.1248647   0.17817111 -0.14133086 -0.00438118\n",
      "  0.26876075 -1.20878799 -0.26568516  0.30779665]\n"
     ]
    }
   ],
   "source": [
    "print(\"x_star = \", x_star)"
   ]
  }
 ],
 "metadata": {
  "kernelspec": {
   "display_name": "Python 3",
   "language": "python",
   "name": "python3"
  },
  "language_info": {
   "codemirror_mode": {
    "name": "ipython",
    "version": 3
   },
   "file_extension": ".py",
   "mimetype": "text/x-python",
   "name": "python",
   "nbconvert_exporter": "python",
   "pygments_lexer": "ipython3",
   "version": "3.6.5"
  }
 },
 "nbformat": 4,
 "nbformat_minor": 2
}
