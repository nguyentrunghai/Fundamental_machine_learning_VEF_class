{
 "cells": [
  {
   "cell_type": "markdown",
   "metadata": {},
   "source": [
    "# Problem 1"
   ]
  },
  {
   "cell_type": "markdown",
   "metadata": {},
   "source": [
    "The number of ways to partition a set $S$ of $n$ elements into $k$ subsets, $S_1, S_2, \\ldots, S_k$, which are mutually exclusive and collectively exhaustive is given by the *Multinomial coefficient*\n",
    "\\begin{equation*}\n",
    "\\tag{1.1}\n",
    "\\binom{n}{n_1, n_2, \\ldots, n_k} = \\frac{n!}{n_1!~n_2!~\\ldots~n_k!} ,\n",
    "\\end{equation*}\n",
    "\n",
    "where $n_i$ is the number of elements of subset $i$ and $n_1 + n_2 + \\ldots + n_k = n$.\n",
    "\n",
    "\n",
    "A proof of Eq. (1.1) is as follows.\n",
    "\n",
    "\n",
    "There are $\\binom{n}{n_1}$ ways of choosing subset $S_1$ from $S$. For each of the ways of choosing $S_1$, there are $\\binom{n-n_1}{n_2}$ ways of choosing subset $S_2$ from the remaining elemnents in $S - S_1$, which denotes the set difference. We can reason in the same way until the last set $S_k$ which has only $1$ way to choose, given that we have chosen $S_1, S_2, \\ldots, S_{k-1}$. So we have\n",
    "\\begin{align*}\n",
    "\\binom{n}{n_1, n_2, \\ldots, n_k} &= \\binom{n}{n_1} \\times \\binom{n-n_1}{n_2} \\times \\ldots \\times \\binom{n-n_1 - \\ldots - n_{k-2}}{n_{k-1}} \\times 1 \\\\\n",
    "&= \\frac{n!}{n_1!~(n-n_1)!} \\times \\frac{(n-n_1)!}{n_2!~(n-n_1-n_2)!} \\times \\ldots \\times \\frac{(n-n_1-\\ldots-n_{k-2})!}{n_{k-1}!~(n-n_1-\\ldots-n_{k-2}-n_{k-1})!} \\\\\n",
    "&= \\frac{n!}{n_1!} \\times \\frac{1}{n_2!} \\times \\ldots \\times \\frac{1}{n_{k-1}!~n_k!}\\\\\n",
    "&=\\frac{n!}{n_1!~n_2!~\\ldots~n_k!} . \\tag{1.2}\n",
    "\\end{align*}\n",
    "\n",
    "<div style=\"text-align: right\"> Q.E.D. </div>\n",
    "\n",
    "So the number of ways of dividing 15 students into 3 groups of sizes 4, 5 and 6, respectively, is:\n",
    "\\begin{equation*}\n",
    "\\binom{15}{4, 5, 5} = \\frac{15!}{4!~5!~6!} = 630,630. \\tag{1.3}\n",
    "\\end{equation*}"
   ]
  }
 ],
 "metadata": {
  "kernelspec": {
   "display_name": "Python 3",
   "language": "python",
   "name": "python3"
  },
  "language_info": {
   "codemirror_mode": {
    "name": "ipython",
    "version": 3
   },
   "file_extension": ".py",
   "mimetype": "text/x-python",
   "name": "python",
   "nbconvert_exporter": "python",
   "pygments_lexer": "ipython3",
   "version": "3.6.5"
  }
 },
 "nbformat": 4,
 "nbformat_minor": 2
}
