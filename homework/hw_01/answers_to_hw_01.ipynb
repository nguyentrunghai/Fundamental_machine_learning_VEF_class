{
 "cells": [
  {
   "cell_type": "markdown",
   "metadata": {},
   "source": [
    "# Problem 1"
   ]
  },
  {
   "cell_type": "markdown",
   "metadata": {},
   "source": [
    "The number of ways to partition a set $S$ of $n$ elements into $k$ subsets, $S_1, S_2, \\ldots, S_k$, which are mutually exclusive and collectively exhaustive is given by the Multinomial coefficient:\n",
    "\\begin{equation}\n",
    "\\label{eq:multinomial}\\tag{1.1}\n",
    "\\binom{n}{n_1, n_2, \\ldots, n_k} = \\frac{n!}{n_1!~n_2!~n_3!\\ldots~n_k!}\n",
    "\\end{equation}\n",
    "\n",
    "Eq. (\\ref{eq:multinomial})"
   ]
  }
 ],
 "metadata": {
  "kernelspec": {
   "display_name": "Python 3",
   "language": "python",
   "name": "python3"
  },
  "language_info": {
   "codemirror_mode": {
    "name": "ipython",
    "version": 3
   },
   "file_extension": ".py",
   "mimetype": "text/x-python",
   "name": "python",
   "nbconvert_exporter": "python",
   "pygments_lexer": "ipython3",
   "version": "3.6.5"
  }
 },
 "nbformat": 4,
 "nbformat_minor": 2
}
