{
 "cells": [
  {
   "cell_type": "markdown",
   "metadata": {},
   "source": [
    "Student name: **Nguyen Trung Hai**"
   ]
  },
  {
   "cell_type": "markdown",
   "metadata": {},
   "source": [
    "# Problem 1"
   ]
  },
  {
   "cell_type": "markdown",
   "metadata": {},
   "source": [
    "The number of ways to partition a set $S$ of $n$ elements into $k$ subsets, $S_1, S_2, \\ldots, S_k$, which are mutually exclusive and collectively exhaustive is given by the *Multinomial coefficient*\n",
    "\\begin{equation*}\n",
    "\\tag{1.1}\n",
    "\\binom{n}{n_1, n_2, \\ldots, n_k} = \\frac{n!}{n_1!~n_2!~\\ldots~n_k!} ,\n",
    "\\end{equation*}\n",
    "where $n_i$ is the number of elements of subset $i$ and $n_1 + n_2 + \\ldots + n_k = n$.\n",
    "\n",
    "\n",
    "A proof of Eq. (1.1) is as follows.\n",
    "\n",
    "There are $\\binom{n}{n_1}$ ways of choosing subset $S_1$ from $S$. For each of the ways of choosing $S_1$, there are $\\binom{n-n_1}{n_2}$ ways of choosing subset $S_2$ from the remaining elemnents in $S - S_1$, which denotes the set difference. We can reason in the same way until the last set $S_k$ which has only $1$ way to choose, given that we have chosen $S_1, S_2, \\ldots, S_{k-1}$. So we have\n",
    "\\begin{align*}\n",
    "\\binom{n}{n_1, n_2, \\ldots, n_k} &= \\binom{n}{n_1} \\times \\binom{n-n_1}{n_2} \\times \\ldots \\times \\binom{n-n_1 - \\ldots - n_{k-2}}{n_{k-1}} \\times 1 \\\\\n",
    "&= \\frac{n!}{n_1!~(n-n_1)!} \\times \\frac{(n-n_1)!}{n_2!~(n-n_1-n_2)!} \\times \\ldots \\times \\frac{(n-n_1-\\ldots-n_{k-2})!}{n_{k-1}!~(n-n_1-\\ldots-n_{k-2}-n_{k-1})!} \\\\\n",
    "&= \\frac{n!}{n_1!} \\times \\frac{1}{n_2!} \\times \\ldots \\times \\frac{1}{n_{k-1}!~n_k!}\\\\\n",
    "&=\\frac{n!}{n_1!~n_2!~\\ldots~n_k!} . \\tag{1.2}\n",
    "\\end{align*}\n",
    "\n",
    "<div style=\"text-align: right\"> Q.E.D. </div>\n",
    "\n",
    "\n",
    "So the number of ways of dividing 15 students into 3 groups of sizes 4, 5 and 6, respectively, is:\n",
    "\\begin{equation*}\n",
    "\\binom{15}{4, 5, 6} = \\frac{15!}{4!~5!~6!} = 630,630. \\tag{1.3}\n",
    "\\end{equation*}"
   ]
  },
  {
   "cell_type": "code",
   "execution_count": null,
   "metadata": {},
   "outputs": [],
   "source": []
  },
  {
   "cell_type": "markdown",
   "metadata": {},
   "source": [
    "# Problem 2"
   ]
  },
  {
   "cell_type": "markdown",
   "metadata": {},
   "source": [
    "We can represent the box as a vector\n",
    "\\begin{equation*}\n",
    "b = \\left[ \\begin{matrix} R \\\\ R \\\\ G \\\\ B \\end{matrix} \\right], \\tag{2.1}\n",
    "\\end{equation*}\n",
    "where $R \\equiv \\mathrm{red~marble}, G \\equiv \\mathrm{green~marble}$ and $B \\equiv \\mathrm{blue~marble}$.\n",
    "\n",
    "* If we draw the marbles *with replacement*, the first and second draws are from the same box, $b$. Therefore, the sample space in this case is the all possible pairs formed by the *outer product* of $b$ with itself\n",
    "\\begin{equation*}\n",
    "\\Omega_1 = bb^T = \\left[ \\begin{matrix} R \\\\ R \\\\ G \\\\ B \\end{matrix} \\right] \\left[ \\begin{matrix} R & R & G & B \\end{matrix} \\right] = \\left[ \\begin{matrix} RR&RR&RG&RB \\\\ RR&RR&RG&RB \\\\ GR&GR&GG&GB \\\\ BR&BR&BG&BB \\end{matrix} \\right] . \\tag{2.2}\n",
    "\\end{equation*}\n",
    "\n",
    "* If we draw the marbles *without replacement*, the marble drawn the first time will not be available for the second draw. So we need to exlude pairs in which the first and the second marble are identical. The sample space in this case is $\\Omega_1$ minus the diagonal.\n",
    "\\begin{equation*}\n",
    "\\Omega_2 = \\Omega_1 - \\mathrm{diag}\\left(\\left[ \\begin{matrix} RR & RR & GG & BB \\end{matrix} \\right]\\right) = \\left[ \\begin{matrix} *&RR&RG&RB \\\\ RR&*&RG&RB \\\\ GR&GR&*&GB \\\\ BR&BR&BG&* \\end{matrix} \\right] .\\tag{2.3}\n",
    "\\end{equation*}"
   ]
  },
  {
   "cell_type": "code",
   "execution_count": null,
   "metadata": {},
   "outputs": [],
   "source": []
  },
  {
   "cell_type": "markdown",
   "metadata": {},
   "source": [
    "# Problem 3"
   ]
  },
  {
   "cell_type": "markdown",
   "metadata": {},
   "source": [
    "Let $\\Omega$ be the sample space of rolling two dice:\n",
    "\\begin{equation*}\n",
    "\\Omega = \\left[ \\begin{matrix} 1~1&1~2&1~3&1~4&1~5&1~6 \\\\ 2~1&2~2&2~3&2~4&2~5&2~6 \\\\ 3~1&3~2&3~3&3~4&3~5&3~6 \\\\ 4~1&4~2&4~3&4~4&4~5&4~6 \\\\ 5~1&5~2&5~3&5~4&5~5&5~6 \\\\ 6~1&6~2&6~3&6~4&6~5&6~6 \\end{matrix} \\right] .\\tag{3.1}\n",
    "\\end{equation*}\n",
    "\n",
    "Let $A$ be the event that \"*at least one die lands on 5*\". $A$ contains elements in the 5th row and elements in the 5th column of $\\Omega$. So\n",
    "\\begin{equation*}\n",
    "P(A) = \\frac{11}{36} . \\tag{3.2}\n",
    "\\end{equation*}\n",
    "\n",
    "Let $S_i$ is the event that \"*sum of two dice is* $i$\", where $i = 3, 4, \\ldots, 12$. We have\n",
    "\\begin{equation*}\n",
    "P(A~|~S_i) = \\frac{P\\left(A \\cap S_i\\right)}{P(S_i)} . \\tag{3.3}\n",
    "\\end{equation*}\n",
    "\n",
    "From the matrix $\\Omega$ we see that $A$ contains pairs of dice having sum in the range $[6, 11]$. So we have $P\\left(A \\cap S_j\\right) = 0$ for $j \\in \\{3,4,5,12\\}$ which means $P(A~|~S_j)=0$ for $j \\in \\{3,4,5,12\\}$.\n",
    "\n",
    "* $S_6 = \\{1~5,~2~4,~3~3,~4~2,~5~1\\}$, $A \\cap S_6 = \\{1~5,~5~1\\}$ $\\Rightarrow$\n",
    "\\begin{equation*}\n",
    "P(A~|~S_6) = \\frac{P\\left(A \\cap S_6\\right)}{P(S_6)} = \\frac{2/36}{5/36} = \\frac{2}{5} . \\tag{3.4}\n",
    "\\end{equation*}\n",
    "\n",
    "* $S_7 = \\{1~6,~2~5,~3~4,~4~3,~5~2,~6~1\\}$, $A \\cap S_7 = \\{2~5,~5~2\\}$ $\\Rightarrow$\n",
    "\\begin{equation*}\n",
    "P(A~|~S_7) = \\frac{P\\left(A \\cap S_7\\right)}{P(S_7)} = \\frac{2/36}{6/36} = \\frac{1}{3} . \\tag{3.5}\n",
    "\\end{equation*}\n",
    "\n",
    "* $S_8 = \\{2~6,~3~5,~4~4,~5~3,~6~2\\}$, $A \\cap S_8 = \\{3~5,~5~3\\}$ $\\Rightarrow$\n",
    "\\begin{equation*}\n",
    "P(A~|~S_8) = \\frac{P\\left(A \\cap S_8\\right)}{P(S_8)} = \\frac{2/36}{5/36} = \\frac{2}{5} . \\tag{3.6}\n",
    "\\end{equation*}\n",
    "\n",
    "* $S_9 = \\{3~6,~4~5,~5~4,~6~3\\}$, $A \\cap S_9 = \\{4~5,~5~4\\}$ $\\Rightarrow$\n",
    "\\begin{equation*}\n",
    "P(A~|~S_9) = \\frac{P\\left(A \\cap S_9\\right)}{P(S_9)} = \\frac{2/36}{4/36} = \\frac{1}{2} . \\tag{3.7}\n",
    "\\end{equation*}\n",
    "\n",
    "* $S_{10} = \\{4~6,~5~5,~6~4\\}$, $A \\cap S_{10} = \\{5~5\\}$ $\\Rightarrow$\n",
    "\\begin{equation*}\n",
    "P(A~|~S_{10}) = \\frac{P\\left(A \\cap S_{10}\\right)}{P(S_{10})} = \\frac{1/36}{3/36} = \\frac{1}{3} . \\tag{3.8}\n",
    "\\end{equation*}\n",
    "\n",
    "* $S_{11} = \\{5~6,~6~5\\}$, $A \\cap S_{11} = \\{5~6,~6~5\\}$ $\\Rightarrow$\n",
    "\\begin{equation*}\n",
    "P(A~|~S_{11}) = \\frac{P\\left(A \\cap S_{11}\\right)}{P(S_{11})} = \\frac{2/36}{2/36} = 1 . \\tag{3.9}\n",
    "\\end{equation*}"
   ]
  },
  {
   "cell_type": "code",
   "execution_count": null,
   "metadata": {},
   "outputs": [],
   "source": []
  },
  {
   "cell_type": "markdown",
   "metadata": {},
   "source": [
    "# Problem 4"
   ]
  },
  {
   "cell_type": "markdown",
   "metadata": {},
   "source": [
    "The PMF of a Poisson random variable $X$ is given by\n",
    "\\begin{equation*}\n",
    "P(X=i) = e^{-\\lambda} \\frac{\\lambda^i}{i!}, \\tag{4.1}\n",
    "\\end{equation*}\n",
    "where $\\lambda$ is the expected number of events occuring in an interval, and $i$ is a non-negative interger.\n",
    "\n",
    "Consider the ratio\n",
    "\\begin{equation*}\n",
    "\\frac{P(X=i)}{P(X=i-1)} = \\frac{\\lambda^i/i!}{\\lambda^{i-1}/(i-1)!}=\\frac{\\lambda}{i} . \\tag{4.2}\n",
    "\\end{equation*}\n",
    "\n",
    "* For all $i$ such that $i < \\lambda$, we have $\\frac{\\lambda}{i} > 1$ or $P(X=i) > P(X=i-1)$. This means $P(X=i)$ monotonically increases when $i < \\lambda$.\n",
    "\n",
    "* For all $i$ such that $i > \\lambda$, we have $\\frac{\\lambda}{i} < 1$ or $P(X=i) < P(X=i-1)$. This means $P(X=i)$ monotonically decreases when $i > \\lambda$.\n",
    "\n",
    "Now we need to prove that the maximun stays on the left side of $\\lambda$ (if $\\lambda$ is not an inetger). Let $i_L = \\underset{i<\\lambda}{\\operatorname{argmax}} P(X=i)$ and $i_R = \\underset{i>\\lambda}{\\operatorname{argmax}} P(X=i)$. Then we need to prove that $P(X=i_L) > P(X=i_R)$. \n",
    "\n",
    "Since $P(X=i)$ monotonically increases on the left and monotonically decreases on the right of $\\lambda$, we have $i_R = i_L + 1$ and $i_L < \\lambda < i_R$. This mean that there exists $\\rho \\in (0, 1)$ such that $i_L = \\lambda - \\rho$ and $i_R = \\lambda + (1-\\rho)$. Now let's check the ratio\n",
    "\\begin{equation*}\n",
    "\\frac{P(X=i_L)}{P(X=i_R)} = \\frac{P(X=\\lambda-\\rho)}{P(X=\\lambda-\\rho+1)} = \\frac{\\lambda-\\rho+1}{\\lambda} \\tag{4.3}\n",
    "\\end{equation*}\n",
    "Since $\\rho < 1$ $\\Rightarrow \\frac{\\lambda-\\rho+1}{\\lambda} > 1$ or $P(X=i_L) > P(X=i_R)$.\n",
    "\n",
    "If $\\lambda$ happens to be an integer, then $i_L = i_R = \\lambda$.\n",
    "\n",
    "<div style=\"text-align: right\"> Q.E.D. </div>"
   ]
  },
  {
   "cell_type": "code",
   "execution_count": null,
   "metadata": {},
   "outputs": [],
   "source": []
  },
  {
   "cell_type": "markdown",
   "metadata": {},
   "source": [
    "# Prolem 5"
   ]
  },
  {
   "cell_type": "markdown",
   "metadata": {},
   "source": [
    "The standard deviation of a random variable $X$ is given by\n",
    "\\begin{equation*}\n",
    "\\mathrm{SD}(X) = \\sqrt{\\mathrm{Var}(X)} \\equiv \\sigma . \\tag{5.1}\n",
    "\\end{equation*}\n",
    "\n",
    "Let's do a linear transformation of $X$: \n",
    "\\begin{equation*}\n",
    "Y=aX+b, \\tag{5.2}\n",
    "\\end{equation*}\n",
    "and ask what is the standard deviation of $Y$?\n",
    "\\begin{equation*}\n",
    "\\mathrm{Var}[Y] = \\mathrm{E}[Y^2] - \\mathrm{E}[Y]^2, \\tag{5.3}\n",
    "\\end{equation*}\n",
    "where $\\mathrm{E}[\\cdot]$ denotes the expectation. Note that the expectation has a linearity property as follows\n",
    "\\begin{equation*}\n",
    "\\mathrm{E}\\left[(aX + b)\\right] = a\\mathrm{E}[X] + b. \\tag{5.4}\n",
    "\\end{equation*}\n",
    "\n",
    "We have\n",
    "\\begin{align*}\n",
    "\\mathrm{Var}[Y] &= \\mathrm{E}\\left[(aX+b)^2\\right] - \\left(\\mathrm{E}\\left[(aX+b)\\right]\\right)^2\\\\\n",
    "&= \\mathrm{E}[a^2X^2 + 2abX + b^2] - \\left(a\\mathrm{E}[X] + b\\right)^2\\\\\n",
    "&= a^2\\mathrm{E}[X^2] + 2ab\\mathrm{E}[X] + b^2 - a^2\\mathrm{E}[X]^2 - 2ab\\mathrm{E}[X] - b^2 \\\\\n",
    "&= a^2\\left(\\mathrm{E}[X^2] - \\mathrm{E}[X]^2\\right)\\\\\n",
    "&= a^2\\mathrm{Var}[X] = a^2\\sigma^2 . \\tag{5.5}\n",
    "\\end{align*}\n",
    "\n",
    "So the standard deviation of $Y$ is\n",
    "\\begin{equation*}\n",
    "\\mathrm{SD}[Y] =  \\sqrt{\\mathrm{Var}(Y)} = a\\sigma . \\tag{5.6}\n",
    "\\end{equation*}"
   ]
  },
  {
   "cell_type": "code",
   "execution_count": null,
   "metadata": {},
   "outputs": [],
   "source": []
  },
  {
   "cell_type": "markdown",
   "metadata": {},
   "source": [
    "# Problem 6"
   ]
  },
  {
   "cell_type": "markdown",
   "metadata": {},
   "source": [
    "## (a)\n",
    "$X$ and $Y$ are independent becuase we can factorize the PDF $f(x,y)$ into two functions, each only depends on one variable:\n",
    "\\begin{equation*}\n",
    "f(x, y) = h(x)g(y) , \\tag{6.1}\n",
    "\\end{equation*}\n",
    "where we can choose $h(x) \\equiv x(1-x)$ and $g(y) \\equiv 12y$."
   ]
  },
  {
   "cell_type": "markdown",
   "metadata": {},
   "source": [
    "## (b)\n",
    "The marginal density of $X$ is\n",
    "\\begin{equation*}\n",
    "f_X(x) = \\int_0^1 f(x,y)dy = 12x(1-x)\\int_0^1ydy = 6x(1-x) . \\tag{6.2}\n",
    "\\end{equation*}\n",
    "\n",
    "The expectation of $X$ is\n",
    "\\begin{equation*}\n",
    "\\mathrm{E}[X] = \\int_0^1 xf_X(x)dx = 6\\int_0^1 x^2(1-x) dx = 6\\int_0^1 (x^2 - x^3)dx = \\frac{1}{2}. \\tag{6.3}\n",
    "\\end{equation*}"
   ]
  },
  {
   "cell_type": "markdown",
   "metadata": {},
   "source": [
    "## (c)\n",
    "The marginal density of $Y$ is\n",
    "\\begin{equation*}\n",
    "f_Y(y) = \\int_0^1 f(x,y)dx = 12y \\int_0^1 (x-x^2)dx = 2y . \\tag{6.4}\n",
    "\\end{equation*}\n",
    "\n",
    "The expectation of $Y$ is \n",
    "\\begin{equation*}\n",
    "\\mathrm{E}[Y] = \\int_0^1 yf_Y(y) dy = 2\\int_0^1 y^2 dy = \\frac{2}{3}. \\tag{6.5}\n",
    "\\end{equation*}"
   ]
  },
  {
   "cell_type": "markdown",
   "metadata": {},
   "source": [
    "## (d)\n",
    "\\begin{equation*}\n",
    "\\mathrm{E}[X^2] = \\int_0^1 x^2 f_X(x) dx = \\int_0^1 6 x^3(1-x) dx = 6\\int_0^1 (x^3-x^4) dx = \\frac{3}{10} . \\tag{6.6}\n",
    "\\end{equation*}\n",
    "\n",
    "The variance of $X$ is\n",
    "\\begin{equation*}\n",
    "\\mathrm{Var}(X) = \\mathrm{E}[X^2] - \\mathrm{E}[X]^2 = \\frac{3}{10} - \\left(\\frac{1}{2}\\right)^2 = \\frac{1}{20}. \\tag{6.7}\n",
    "\\end{equation*}"
   ]
  },
  {
   "cell_type": "markdown",
   "metadata": {},
   "source": [
    "## (e)\n",
    "\\begin{equation*}\n",
    "\\mathrm{E}[Y^2] = \\int_0^1 y^2 f_Y(y) dy = 2\\int_0^1 y^3 dy = \\frac{1}{2} . \\tag{6.8}\n",
    "\\end{equation*}\n",
    "\n",
    "The variance of $Y$ is\n",
    "\\begin{equation*}\n",
    "\\mathrm{Var}(Y) = \\mathrm{E}[Y^2] - \\mathrm{E}[Y]^2 = \\frac{1}{2} - \\left(\\frac{2}{3}\\right)^2 = \\frac{1}{18}. \\tag{6.9}\n",
    "\\end{equation*}"
   ]
  },
  {
   "cell_type": "code",
   "execution_count": null,
   "metadata": {},
   "outputs": [],
   "source": []
  },
  {
   "cell_type": "markdown",
   "metadata": {},
   "source": [
    "# Problem 7"
   ]
  },
  {
   "cell_type": "markdown",
   "metadata": {},
   "source": [
    "We should choose the scheme that has the lowest variance. So we will calculate variance of $X$ and $Y$ to see which random variable has a lower variance.\n",
    "\n",
    "Let $N$ be the number of dots on a die. Assume that the die is fair, the expectation of $N$ is\n",
    "\\begin{equation*}\n",
    "\\mathrm{E}[N] = \\sum_{i=1}^{6} iP(X=i) =  \\frac{1}{6}\\sum_{i=1}^{6} i = 3.5 . \\tag{7.1}\n",
    "\\end{equation*}\n",
    "\n",
    "To calculate the variance, we need to calculate $\\mathrm{E}[N^2]$\n",
    "\\begin{equation*}\n",
    "\\mathrm{E}[N^2] = \\frac{1}{6}\\sum_{i=1}^{6} i^2 = 15.1666 . \\tag{7.2}\n",
    "\\end{equation*}\n",
    "\n",
    "\\begin{equation*}\n",
    "\\mathrm{Var}[N] = \\mathrm{E}[N^2] - \\mathrm{E}[N]^2 = 15.1666 - (3.5)^2 = 2.9166. \\tag{7.3}\n",
    "\\end{equation*}"
   ]
  },
  {
   "cell_type": "markdown",
   "metadata": {},
   "source": [
    "## Scheme (a)\n",
    "\n",
    "\\begin{equation*}\n",
    "X = 1000 \\times N . \\tag{7.4}\n",
    "\\end{equation*}\n",
    "\n",
    "\\begin{equation*}\n",
    "\\mathrm{E}[X] = 1000 \\times \\mathrm{E}[N] = 1000 \\times 3.5 = 3500 . \\tag{7.5}\n",
    "\\end{equation*}\n",
    "\n",
    "From Eq. (5.6) above, we have\n",
    "\\begin{equation*}\n",
    "\\mathrm{Var}[X] = 1000^2 \\times \\mathrm{Var}[N] = 2.916 \\times 10^6 . \\tag{7.6}\n",
    "\\end{equation*}"
   ]
  },
  {
   "cell_type": "markdown",
   "metadata": {},
   "source": [
    "## Scheme (b)\n",
    "\n",
    "\\begin{equation*}\n",
    "Y = \\sum_{i=1}^{1000} N_i, \\tag{7.7}\n",
    "\\end{equation*}\n",
    "where $\\{N_i\\}$ are independent and identically distributed (iid) random variables, which are the number of dots on a die. Due to the linearity property of expectation $\\mathrm{E}[\\cdot]$, we have\n",
    "\\begin{equation*}\n",
    "\\mathrm{E}[Y] = \\mathrm{E}\\left[\\sum_{i=1}^{1000} N_i\\right] = \\sum_{i=1}^{1000} \\mathrm{E}[N_i] = 1000 \\times \\mathrm{E}[N] = 1000 \\times 3.5 = 3500 . \\tag{7.8}\n",
    "\\end{equation*}\n",
    "So both schemes give the same expectation.\n",
    "\n",
    "To calculate $\\mathrm{Var}[Y]$, we will make use of the following equality which holds true for sum of independent random variables:\n",
    "\\begin{equation*}\n",
    "\\mathrm{Var}\\left[\\sum_{i=1}^{N} a_i U_i\\right] = \\sum_{i=1}^{N} a_i^2 \\mathrm{Var}[U_i] . \\tag{7.9}\n",
    "\\end{equation*}\n",
    "A proof of Eq. (7.9) is tedious but not too difficult and can be found here https://newonlinecourses.science.psu.edu/stat414/node/166/\n",
    "\n",
    "Now using Eq. (7.9) to calculate $\\mathrm{Var}[Y]$ we have\n",
    "\\begin{equation*}\n",
    "\\mathrm{Var}[Y] = \\sum_{i=1}^{1000} \\mathrm{Var}[N_i] = 1000 \\times \\mathrm{Var}[N] = 2.916 \\times 10^3 . \\tag{7.10}\n",
    "\\end{equation*}\n",
    "\n",
    "From Eqs (7.6) and (7.10) we see that $\\mathrm{Var}[Y] < \\mathrm{Var}[X]$. So we will choose **scheme (b)**."
   ]
  },
  {
   "cell_type": "markdown",
   "metadata": {},
   "source": [
    "## Simulation approach to estimating the variance"
   ]
  },
  {
   "cell_type": "markdown",
   "metadata": {},
   "source": [
    "We can also estimate $\\mathrm{Var}[X]$ and $\\mathrm{Var}[Y]$ using *simulation method* as follows."
   ]
  },
  {
   "cell_type": "code",
   "execution_count": 16,
   "metadata": {},
   "outputs": [],
   "source": [
    "import numpy as np"
   ]
  },
  {
   "cell_type": "code",
   "execution_count": 35,
   "metadata": {},
   "outputs": [
    {
     "name": "stdout",
     "output_type": "stream",
     "text": [
      "Variance of X: 2.92e+06\n",
      "Variance of Y: 2.8819e+03\n"
     ]
    }
   ],
   "source": [
    "np.random.seed(1234)\n",
    "nsamples = 5000\n",
    "\n",
    "x_samples = 1000 * np.random.choice(range(1, 7), size=nsamples, replace=True)\n",
    "print(\"Variance of X: %0.2e\" % np.var(x_samples))\n",
    "\n",
    "y_samples = [sum(np.random.choice(range(1, 7), size=1000, replace=True)) \n",
    "             for _ in range(nsamples)]\n",
    "print(\"Variance of Y: %0.4e\" % np.var(y_samples))"
   ]
  }
 ],
 "metadata": {
  "kernelspec": {
   "display_name": "Python 3",
   "language": "python",
   "name": "python3"
  },
  "language_info": {
   "codemirror_mode": {
    "name": "ipython",
    "version": 3
   },
   "file_extension": ".py",
   "mimetype": "text/x-python",
   "name": "python",
   "nbconvert_exporter": "python",
   "pygments_lexer": "ipython3",
   "version": "3.6.5"
  }
 },
 "nbformat": 4,
 "nbformat_minor": 2
}
